{
 "cells": [
  {
   "cell_type": "code",
   "execution_count": 55,
   "metadata": {},
   "outputs": [],
   "source": [
    "import pandas as pd\n",
    "import json"
   ]
  },
  {
   "cell_type": "code",
   "execution_count": 56,
   "metadata": {},
   "outputs": [],
   "source": [
    "df = pd.read_csv('new_intents/formatted_data.csv')"
   ]
  },
  {
   "cell_type": "code",
   "execution_count": 57,
   "metadata": {},
   "outputs": [
    {
     "data": {
      "text/html": [
       "<div>\n",
       "<style scoped>\n",
       "    .dataframe tbody tr th:only-of-type {\n",
       "        vertical-align: middle;\n",
       "    }\n",
       "\n",
       "    .dataframe tbody tr th {\n",
       "        vertical-align: top;\n",
       "    }\n",
       "\n",
       "    .dataframe thead th {\n",
       "        text-align: right;\n",
       "    }\n",
       "</style>\n",
       "<table border=\"1\" class=\"dataframe\">\n",
       "  <thead>\n",
       "    <tr style=\"text-align: right;\">\n",
       "      <th></th>\n",
       "      <th>IntentID</th>\n",
       "      <th>IntentName</th>\n",
       "      <th>Query</th>\n",
       "      <th>Response</th>\n",
       "      <th>Action</th>\n",
       "      <th>InputContent</th>\n",
       "      <th>OutputContent</th>\n",
       "      <th>Lifespan</th>\n",
       "    </tr>\n",
       "  </thead>\n",
       "  <tbody>\n",
       "    <tr>\n",
       "      <th>0</th>\n",
       "      <td>1</td>\n",
       "      <td>1</td>\n",
       "      <td>Attack of Caterpillar  on bhindi ?</td>\n",
       "      <td>Spray Proclaim 07 gm/15 liter of Water(Emamect...</td>\n",
       "      <td>NaN</td>\n",
       "      <td>NaN</td>\n",
       "      <td>NaN</td>\n",
       "      <td>NaN</td>\n",
       "    </tr>\n",
       "    <tr>\n",
       "      <th>1</th>\n",
       "      <td>2</td>\n",
       "      <td>2</td>\n",
       "      <td>ASKED ABOUT BITTER GOURD PLKANTATION ?</td>\n",
       "      <td>For more information on cultivation, all India...</td>\n",
       "      <td>NaN</td>\n",
       "      <td>NaN</td>\n",
       "      <td>NaN</td>\n",
       "      <td>NaN</td>\n",
       "    </tr>\n",
       "    <tr>\n",
       "      <th>2</th>\n",
       "      <td>3</td>\n",
       "      <td>3</td>\n",
       "      <td>STEM BORER ATTACK ON MANGO ?</td>\n",
       "      <td>STEM BORER ATTACK ON MANGO  = APPLICATION OF N...</td>\n",
       "      <td>NaN</td>\n",
       "      <td>NaN</td>\n",
       "      <td>NaN</td>\n",
       "      <td>NaN</td>\n",
       "    </tr>\n",
       "    <tr>\n",
       "      <th>3</th>\n",
       "      <td>4</td>\n",
       "      <td>4</td>\n",
       "      <td>Attack of White Fly ?</td>\n",
       "      <td>Spray Ullala 8 gm/15 Lit of Water.UPL</td>\n",
       "      <td>NaN</td>\n",
       "      <td>NaN</td>\n",
       "      <td>NaN</td>\n",
       "      <td>NaN</td>\n",
       "    </tr>\n",
       "    <tr>\n",
       "      <th>4</th>\n",
       "      <td>5</td>\n",
       "      <td>5</td>\n",
       "      <td>ASKED ABOUT Attack of Thrips ON COTTON?</td>\n",
       "      <td>SPRAY JUMP(FIPRONIL 80%) 3 GM / 15 LITRE OF WA...</td>\n",
       "      <td>NaN</td>\n",
       "      <td>NaN</td>\n",
       "      <td>NaN</td>\n",
       "      <td>NaN</td>\n",
       "    </tr>\n",
       "  </tbody>\n",
       "</table>\n",
       "</div>"
      ],
      "text/plain": [
       "   IntentID  IntentName                                    Query  \\\n",
       "0         1           1       Attack of Caterpillar  on bhindi ?   \n",
       "1         2           2   ASKED ABOUT BITTER GOURD PLKANTATION ?   \n",
       "2         3           3             STEM BORER ATTACK ON MANGO ?   \n",
       "3         4           4                    Attack of White Fly ?   \n",
       "4         5           5  ASKED ABOUT Attack of Thrips ON COTTON?   \n",
       "\n",
       "                                            Response  Action  InputContent  \\\n",
       "0  Spray Proclaim 07 gm/15 liter of Water(Emamect...     NaN           NaN   \n",
       "1  For more information on cultivation, all India...     NaN           NaN   \n",
       "2  STEM BORER ATTACK ON MANGO  = APPLICATION OF N...     NaN           NaN   \n",
       "3              Spray Ullala 8 gm/15 Lit of Water.UPL     NaN           NaN   \n",
       "4  SPRAY JUMP(FIPRONIL 80%) 3 GM / 15 LITRE OF WA...     NaN           NaN   \n",
       "\n",
       "   OutputContent  Lifespan  \n",
       "0            NaN       NaN  \n",
       "1            NaN       NaN  \n",
       "2            NaN       NaN  \n",
       "3            NaN       NaN  \n",
       "4            NaN       NaN  "
      ]
     },
     "execution_count": 57,
     "metadata": {},
     "output_type": "execute_result"
    }
   ],
   "source": [
    "df.head()"
   ]
  },
  {
   "cell_type": "code",
   "execution_count": 58,
   "metadata": {},
   "outputs": [],
   "source": [
    "for row in df.itertuples():\n",
    "    intent_name = row[2]\n",
    "    query = row[3]\n",
    "    response = row[4]\n",
    "    with open('new_intents/intent/{}.json'.format(intent_name), 'w') as outfile:\n",
    "        data = {\n",
    "            \"name\": intent_name,\n",
    "            \"auto\": True,\n",
    "            \"contexts\": [],\n",
    "            \"responses\": [{\n",
    "                \"resetContexts\": False,\n",
    "                \"action\": \"\",\n",
    "                \"messages\": [{\n",
    "                    \"type\": 0,\n",
    "                    \"lang\": \"en\",\n",
    "                    \"speech\": [\n",
    "                        response\n",
    "                    ]\n",
    "                }],\n",
    "                \"affectedContexts\": []\n",
    "            }]\n",
    "        }\n",
    "        json.dump(data, outfile)\n",
    "        \n",
    "    with open('new_intents/intent/{}_usersays_en.json'.format(intent_name), 'w') as outfile:\n",
    "        data = [{\n",
    "            \"data\": [{\n",
    "                \"text\": query,\n",
    "                \"userDefined\": False\n",
    "            }],\n",
    "            \"isTemplate\": False,\n",
    "            \"count\": 0,\n",
    "            \"updated\": 0\n",
    "        }]\n",
    "        json.dump(data, outfile)\n",
    "        "
   ]
  },
  {
   "cell_type": "code",
   "execution_count": 59,
   "metadata": {},
   "outputs": [
    {
     "data": {
      "text/plain": [
       "3452"
      ]
     },
     "execution_count": 59,
     "metadata": {},
     "output_type": "execute_result"
    }
   ],
   "source": [
    "intent_name"
   ]
  },
  {
   "cell_type": "code",
   "execution_count": 28,
   "metadata": {},
   "outputs": [],
   "source": [
    "with open('new_intents/{}.json'.format(), 'w') as outfile:\n",
    "    data = {\"test\": \"1\", \"no\": \"2\"}\n",
    "    json.dump(data, outfile)"
   ]
  },
  {
   "cell_type": "code",
   "execution_count": null,
   "metadata": {},
   "outputs": [],
   "source": []
  }
 ],
 "metadata": {
  "kernelspec": {
   "display_name": "Python 3",
   "language": "python",
   "name": "python3"
  },
  "language_info": {
   "codemirror_mode": {
    "name": "ipython",
    "version": 3
   },
   "file_extension": ".py",
   "mimetype": "text/x-python",
   "name": "python",
   "nbconvert_exporter": "python",
   "pygments_lexer": "ipython3",
   "version": "3.6.6"
  }
 },
 "nbformat": 4,
 "nbformat_minor": 2
}
